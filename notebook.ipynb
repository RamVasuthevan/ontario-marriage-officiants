{
 "cells": [
  {
   "cell_type": "markdown",
   "metadata": {},
   "source": [
    "# Marriage Officiants in Ontario"
   ]
  },
  {
   "cell_type": "code",
   "execution_count": 21,
   "metadata": {},
   "outputs": [
    {
     "data": {
      "text/html": [
       "<div>\n",
       "<style scoped>\n",
       "    .dataframe tbody tr th:only-of-type {\n",
       "        vertical-align: middle;\n",
       "    }\n",
       "\n",
       "    .dataframe tbody tr th {\n",
       "        vertical-align: top;\n",
       "    }\n",
       "\n",
       "    .dataframe thead th {\n",
       "        text-align: right;\n",
       "    }\n",
       "</style>\n",
       "<table border=\"1\" class=\"dataframe\">\n",
       "  <thead>\n",
       "    <tr style=\"text-align: right;\">\n",
       "      <th></th>\n",
       "      <th>Municipality</th>\n",
       "      <th>Last Name</th>\n",
       "      <th>First Name</th>\n",
       "      <th>Affiliation</th>\n",
       "    </tr>\n",
       "  </thead>\n",
       "  <tbody>\n",
       "    <tr>\n",
       "      <th>0</th>\n",
       "      <td>Acton</td>\n",
       "      <td>Benham</td>\n",
       "      <td>John James L</td>\n",
       "      <td>Western Ontario Waterways Regional Council - United Church</td>\n",
       "    </tr>\n",
       "    <tr>\n",
       "      <th>1</th>\n",
       "      <td>Acton</td>\n",
       "      <td>Berry</td>\n",
       "      <td>Cheryl Anne</td>\n",
       "      <td>Spiritualist Church Of Canada</td>\n",
       "    </tr>\n",
       "    <tr>\n",
       "      <th>2</th>\n",
       "      <td>Acton</td>\n",
       "      <td>Crerar</td>\n",
       "      <td>Thomas Charles</td>\n",
       "      <td>Celebrating Life Ministries</td>\n",
       "    </tr>\n",
       "    <tr>\n",
       "      <th>3</th>\n",
       "      <td>Acton</td>\n",
       "      <td>Kabugi</td>\n",
       "      <td>Naomi Gakenia</td>\n",
       "      <td>The Anglican Church Of Canada Diocese Of Niagara</td>\n",
       "    </tr>\n",
       "    <tr>\n",
       "      <th>4</th>\n",
       "      <td>Acton</td>\n",
       "      <td>Letki</td>\n",
       "      <td>Matthew F</td>\n",
       "      <td>Clergy Support Memorial Church</td>\n",
       "    </tr>\n",
       "  </tbody>\n",
       "</table>\n",
       "</div>"
      ],
      "text/plain": [
       "  Municipality Last Name      First Name  \\\n",
       "0        Acton    Benham    John James L   \n",
       "1        Acton     Berry     Cheryl Anne   \n",
       "2        Acton    Crerar  Thomas Charles   \n",
       "3        Acton    Kabugi   Naomi Gakenia   \n",
       "4        Acton     Letki       Matthew F   \n",
       "\n",
       "                                                  Affiliation  \n",
       "0  Western Ontario Waterways Regional Council - United Church  \n",
       "1                               Spiritualist Church Of Canada  \n",
       "2                                 Celebrating Life Ministries  \n",
       "3            The Anglican Church Of Canada Diocese Of Niagara  \n",
       "4                              Clergy Support Memorial Church  "
      ]
     },
     "execution_count": 21,
     "metadata": {},
     "output_type": "execute_result"
    }
   ],
   "source": [
    "import pandas as pd\n",
    "import matplotlib.pyplot as plt\n",
    "\n",
    "df = pd.read_csv('registered_marriage_officiants.csv')\n",
    "pd.set_option('display.max_colwidth', 100)\n",
    "df.head()"
   ]
  },
  {
   "cell_type": "code",
   "execution_count": 22,
   "metadata": {},
   "outputs": [
    {
     "data": {
      "text/html": [
       "<div>\n",
       "<style scoped>\n",
       "    .dataframe tbody tr th:only-of-type {\n",
       "        vertical-align: middle;\n",
       "    }\n",
       "\n",
       "    .dataframe tbody tr th {\n",
       "        vertical-align: top;\n",
       "    }\n",
       "\n",
       "    .dataframe thead th {\n",
       "        text-align: right;\n",
       "    }\n",
       "</style>\n",
       "<table border=\"1\" class=\"dataframe\">\n",
       "  <thead>\n",
       "    <tr style=\"text-align: right;\">\n",
       "      <th></th>\n",
       "      <th>Municipality</th>\n",
       "      <th>Last Name</th>\n",
       "      <th>First Name</th>\n",
       "      <th>Affiliation</th>\n",
       "    </tr>\n",
       "  </thead>\n",
       "  <tbody>\n",
       "    <tr>\n",
       "      <th>count</th>\n",
       "      <td>22230</td>\n",
       "      <td>22230</td>\n",
       "      <td>22230</td>\n",
       "      <td>22196</td>\n",
       "    </tr>\n",
       "    <tr>\n",
       "      <th>unique</th>\n",
       "      <td>1340</td>\n",
       "      <td>12122</td>\n",
       "      <td>15111</td>\n",
       "      <td>1018</td>\n",
       "    </tr>\n",
       "    <tr>\n",
       "      <th>top</th>\n",
       "      <td>Toronto</td>\n",
       "      <td>Smith</td>\n",
       "      <td>John</td>\n",
       "      <td>Roman Catholic Archdiocese Of Toronto - Catholic Pastoral Center</td>\n",
       "    </tr>\n",
       "    <tr>\n",
       "      <th>freq</th>\n",
       "      <td>2313</td>\n",
       "      <td>148</td>\n",
       "      <td>129</td>\n",
       "      <td>843</td>\n",
       "    </tr>\n",
       "  </tbody>\n",
       "</table>\n",
       "</div>"
      ],
      "text/plain": [
       "       Municipality Last Name First Name  \\\n",
       "count         22230     22230      22230   \n",
       "unique         1340     12122      15111   \n",
       "top         Toronto     Smith       John   \n",
       "freq           2313       148        129   \n",
       "\n",
       "                                                             Affiliation  \n",
       "count                                                              22196  \n",
       "unique                                                              1018  \n",
       "top     Roman Catholic Archdiocese Of Toronto - Catholic Pastoral Center  \n",
       "freq                                                                 843  "
      ]
     },
     "execution_count": 22,
     "metadata": {},
     "output_type": "execute_result"
    }
   ],
   "source": [
    "data_summary = df.describe()"
   ]
  }
 ],
 "metadata": {
  "kernelspec": {
   "display_name": "Python 3",
   "language": "python",
   "name": "python3"
  },
  "language_info": {
   "codemirror_mode": {
    "name": "ipython",
    "version": 3
   },
   "file_extension": ".py",
   "mimetype": "text/x-python",
   "name": "python",
   "nbconvert_exporter": "python",
   "pygments_lexer": "ipython3",
   "version": "3.10.8"
  },
  "orig_nbformat": 4
 },
 "nbformat": 4,
 "nbformat_minor": 2
}
